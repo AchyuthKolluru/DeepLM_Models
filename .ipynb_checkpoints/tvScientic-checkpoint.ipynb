{
 "cells": [
  {
   "cell_type": "code",
   "execution_count": null,
   "id": "79c87a72",
   "metadata": {},
   "outputs": [],
   "source": [
    "# Note: This document is read-only. Copy the questions into a \n",
    "# Jupyter notebook and print a pdf for submission. \n",
    "# Please keep these questions confidential.\n",
    "\n",
    "## General Guidance\n",
    "#\n",
    "# - Strong candidates will usually be able to finish these questions\n",
    "#   in 15 minutes or less, without using any AI code assistance tools.\n",
    "# - Assume that inputs to the functions you write are sanitized.\n",
    "# - Concise, expressive, functional answers are encouraged.\n",
    "# - You do not need to write documentation, use type annotations, etc."
   ]
  },
  {
   "cell_type": "code",
   "execution_count": 3,
   "id": "d27cfce8",
   "metadata": {},
   "outputs": [
    {
     "name": "stdout",
     "output_type": "stream",
     "text": [
      "{9: 1, 0: 3, 5: 2}\n"
     ]
    }
   ],
   "source": [
    "# Q1) Define a function that returns the frequencies of the last digits \n",
    "#     of a list of nonnegative integers. \n",
    "#\n",
    "#     Use only the Python standard libraries.\n",
    "#\n",
    "#     Given the list [49, 10, 20, 5, 30, 785]: \n",
    "#     9 is the last digit once (in 49), \n",
    "#     0 is the last digit three times (in 10, 20, and 30), \n",
    "#     5 is the last digit two times (in 5 and 785) \n",
    "# last_digit_counts([49, 10, 20, 5, 30, 785]) \n",
    "#   = {9:1, 0:3, 5:2} # or something equivalent\n",
    "\n",
    "def last_digit_counts(nums):\n",
    "    freq = {}\n",
    "    for num in nums:\n",
    "        last_digit = num % 10\n",
    "        if last_digit in freq:\n",
    "            freq[last_digit] += 1\n",
    "        else:\n",
    "            freq[last_digit] = 1\n",
    "    \n",
    "    return freq\n",
    "\n",
    "test_list = [49,10,20,5,30,785]\n",
    "\n",
    "result= last_digit_counts(test_list)\n",
    "print(result)"
   ]
  },
  {
   "cell_type": "code",
   "execution_count": 7,
   "id": "fda6c36d",
   "metadata": {},
   "outputs": [
    {
     "name": "stdout",
     "output_type": "stream",
     "text": [
      "True\n"
     ]
    }
   ],
   "source": [
    "# Q2) Given a list of 2-D coordinates, write a function that returns True\n",
    "#     if the points lie on a straight line and False otherwise.\n",
    "#\n",
    "#     Use only the Python standard libraries.\n",
    "#\n",
    "# collinear([[1,1], [2,2], [4,4], [-10, -10]]) = True\n",
    "# collinear([[1,0], [2,0], [3,1]]) = False\n",
    "\n",
    "\n",
    "def collinear(points):\n",
    "    x0, y0 = points[0]\n",
    "    x1, y1 = points[1]\n",
    "    dx = x1 - x0\n",
    "    dy = y1 - y0\n",
    "\n",
    "    for x, y in points[2:]:\n",
    "        if (x-x0)*dy != (y-y0)*dx:\n",
    "            return False\n",
    "    return True\n",
    "\n",
    "z = [[1,1], [2,2], [4,4], [-10,-10]]\n",
    "\n",
    "test = collinear(z)\n",
    "print(test)"
   ]
  },
  {
   "cell_type": "code",
   "execution_count": null,
   "id": "e85da0d9",
   "metadata": {},
   "outputs": [],
   "source": [
    "# Q3) If you flip a fair coin 100 times (independently), \n",
    "#     what is the chance that more than 60 flips come up heads? \n",
    "#     Do not try to compute this value exactly; instead, use \n",
    "#     the simplest \"good\" approximation you can come up with.\n",
    "#     You should not write any code for this problem.\n",
    "\n",
    "'''\n",
    "Since we know that the flips are independent from each other, we can compute it by computing for the binomial distribution sicne there are only 2 outcomes heads or tails.\n",
    "\n",
    "mean = 50 because 100/2\n",
    "Standard deviation = 5 square root of variance where variance is 100 * 1/2 * 1/2 = 25\n",
    "\n",
    "Given this now we can go solve for the z score\n",
    "\n",
    "P(X >= 61), ocne this is sovler for it should be less than about 4\n",
    "\n",
    "Given this now we can sovle for the binomial distribution where we can plug the values in and it should come around to be less than 5%.\n",
    "\n",
    "\n",
    "'''"
   ]
  },
  {
   "cell_type": "code",
   "execution_count": null,
   "id": "c08a08dd",
   "metadata": {},
   "outputs": [],
   "source": [
    "# Q4) What tools do you use to help you code productively? \n",
    "#     For example, what editor/IDE do you prefer? \n",
    "#     Testing framework? Linter? Command line utilities? \n",
    "#     Other tools you like or recommend to friends?\n",
    "#     Is there something you've discovered recently but haven’t \n",
    "#     had time to learn yet?\n",
    "\n",
    "''' \n",
    "\n",
    "Tools that I would regularly use would be my terminal to run all my bash commands and python files and other files. I specifically use iterm its very easy to use.\n",
    "I also use vscode and jupyter notebooks to run all of my machine learning, data science related projects. For all of my python files I either use vscode or Vim to be able to code in.\n",
    "\n",
    "For other languages like R I use Rstudio, Matlab for Matlab and the rest use vscode or spcefic IDEs like Intellisence and so on. \n",
    "\n",
    "I ALMOST everyday use miniconda as it manages all of my environments and very easy to use.\n",
    "\n",
    "I also use chatbots like claude or ChatGPT to help me in areas that sometimes I am unfamiliar in to get a head start. \n",
    "\n",
    "Other than these basic ones, which I have been recommned by and also recommended to friends thers nothng much else. \n",
    "\n",
    "As for something I learnt recently and haven't used would probably be tmux as its a phenomanal program to be able to multitask in the terminal and very intutitive.\n",
    "\n",
    "'''"
   ]
  }
 ],
 "metadata": {
  "kernelspec": {
   "display_name": "deepseek",
   "language": "python",
   "name": "python3"
  },
  "language_info": {
   "codemirror_mode": {
    "name": "ipython",
    "version": 3
   },
   "file_extension": ".py",
   "mimetype": "text/x-python",
   "name": "python",
   "nbconvert_exporter": "python",
   "pygments_lexer": "ipython3",
   "version": "3.12.8"
  }
 },
 "nbformat": 4,
 "nbformat_minor": 5
}
